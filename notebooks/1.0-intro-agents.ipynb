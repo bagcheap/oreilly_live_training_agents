{
  "cells": [
    {
      "cell_type": "markdown",
      "metadata": {
        "id": "view-in-github",
        "colab_type": "text"
      },
      "source": [
        "<a href=\"https://colab.research.google.com/github/bagcheap/oreilly_live_training_agents/blob/main/notebooks/1.0-intro-agents.ipynb\" target=\"_parent\"><img src=\"https://colab.research.google.com/assets/colab-badge.svg\" alt=\"Open In Colab\"/></a>"
      ]
    },
    {
      "cell_type": "code",
      "execution_count": 2,
      "metadata": {
        "execution": {
          "iopub.execute_input": "2024-07-18T12:08:35.796831Z",
          "iopub.status.busy": "2024-07-18T12:08:35.796449Z",
          "iopub.status.idle": "2024-07-18T12:08:35.800239Z",
          "shell.execute_reply": "2024-07-18T12:08:35.799812Z"
        },
        "colab": {
          "base_uri": "https://localhost:8080/"
        },
        "id": "woAIKhJq81sU",
        "outputId": "88149468-a675-4e8b-bec8-4de14342f3cd"
      },
      "outputs": [
        {
          "output_type": "stream",
          "name": "stdout",
          "text": [
            "Requirement already satisfied: openai in /usr/local/lib/python3.10/dist-packages (1.57.4)\n",
            "Requirement already satisfied: anyio<5,>=3.5.0 in /usr/local/lib/python3.10/dist-packages (from openai) (3.7.1)\n",
            "Requirement already satisfied: distro<2,>=1.7.0 in /usr/local/lib/python3.10/dist-packages (from openai) (1.9.0)\n",
            "Requirement already satisfied: httpx<1,>=0.23.0 in /usr/local/lib/python3.10/dist-packages (from openai) (0.28.1)\n",
            "Requirement already satisfied: jiter<1,>=0.4.0 in /usr/local/lib/python3.10/dist-packages (from openai) (0.8.2)\n",
            "Requirement already satisfied: pydantic<3,>=1.9.0 in /usr/local/lib/python3.10/dist-packages (from openai) (2.10.3)\n",
            "Requirement already satisfied: sniffio in /usr/local/lib/python3.10/dist-packages (from openai) (1.3.1)\n",
            "Requirement already satisfied: tqdm>4 in /usr/local/lib/python3.10/dist-packages (from openai) (4.67.1)\n",
            "Requirement already satisfied: typing-extensions<5,>=4.11 in /usr/local/lib/python3.10/dist-packages (from openai) (4.12.2)\n",
            "Requirement already satisfied: idna>=2.8 in /usr/local/lib/python3.10/dist-packages (from anyio<5,>=3.5.0->openai) (3.10)\n",
            "Requirement already satisfied: exceptiongroup in /usr/local/lib/python3.10/dist-packages (from anyio<5,>=3.5.0->openai) (1.2.2)\n",
            "Requirement already satisfied: certifi in /usr/local/lib/python3.10/dist-packages (from httpx<1,>=0.23.0->openai) (2024.12.14)\n",
            "Requirement already satisfied: httpcore==1.* in /usr/local/lib/python3.10/dist-packages (from httpx<1,>=0.23.0->openai) (1.0.7)\n",
            "Requirement already satisfied: h11<0.15,>=0.13 in /usr/local/lib/python3.10/dist-packages (from httpcore==1.*->httpx<1,>=0.23.0->openai) (0.14.0)\n",
            "Requirement already satisfied: annotated-types>=0.6.0 in /usr/local/lib/python3.10/dist-packages (from pydantic<3,>=1.9.0->openai) (0.7.0)\n",
            "Requirement already satisfied: pydantic-core==2.27.1 in /usr/local/lib/python3.10/dist-packages (from pydantic<3,>=1.9.0->openai) (2.27.1)\n"
          ]
        }
      ],
      "source": [
        "%pip install openai"
      ]
    },
    {
      "cell_type": "markdown",
      "metadata": {
        "id": "tz1monj781sV"
      },
      "source": [
        "# Why Agents?"
      ]
    },
    {
      "cell_type": "markdown",
      "metadata": {
        "id": "YxoaPceZ81sV"
      },
      "source": [
        "What is an agent?\n",
        "\n",
        "An agent is a reference to combining models that can perform some kind of reasoning, like large language models (e.g ChatGPT, Llama2, Mistral, etc...) with tools to give it access to the real world,\n",
        "so they can do things like browsing the internet, buying stuff, etc..."
      ]
    },
    {
      "cell_type": "markdown",
      "metadata": {
        "id": "XZDAq0dK81sW"
      },
      "source": [
        "Ok, so, why is there so much hype around agents right now?\n",
        "\n",
        "Because Agents are cool! Recently with the advance of LLMs, we've seen them become an amazing tool to do all sorts of things like building apps, browse the internet and more.\n",
        "\n"
      ]
    },
    {
      "cell_type": "markdown",
      "metadata": {
        "id": "55IZtLqX81sW"
      },
      "source": [
        "SOme neat examples of these kinds of agents can be found in here:\n",
        "\n",
        "- [AutoGPT](https://github.com/Significant-Gravitas/AutoGPT)\n",
        "- [GPT-Engineer](https://github.com/gpt-engineer-org/gpt-engineer)\n",
        "- [BabyAGI](https://github.com/yoheinakajima/babyagi)\n",
        "\n",
        "Now, today although they seem extremely powerful, agents are still at a very early stage in terms of readiness to deploy as products, something you can atest by listening to Andrej Karpathy talk about agents in this talk here:\n",
        "\n",
        "- [Karpathy on Agents](https://www.youtube.com/watch?v=fqVLjtvWgq8)"
      ]
    },
    {
      "cell_type": "markdown",
      "metadata": {
        "id": "rjfXpSCv81sW"
      },
      "source": [
        "This live-training is all about! Getting you excited about this amazing new technology, understanding it from the ground up but with a focus on practical applications and fun stuff you can do with them!"
      ]
    },
    {
      "cell_type": "markdown",
      "metadata": {
        "id": "inE1mKSg81sW"
      },
      "source": [
        "# What is an Agent?"
      ]
    },
    {
      "cell_type": "markdown",
      "metadata": {
        "id": "eM4cmdtn81sW"
      },
      "source": [
        "An agent is nothing more than some entity that can _think_ and _act_, that's right, in a way you're an agent!\n",
        "\n",
        "After all you can think and act on those thoughts like in the case of coming to this live-training:\n",
        "\n",
        "- Thought: \"I want to learn about agents\"\n",
        "\n",
        "- Action: \"Go to the internet and research cool platforms where I can learn about agents\"\n",
        "\n",
        "- Thought: \"O'Reilly has some awesome courses and live-trainings\"\n",
        "\n",
        "- Action: \"Look up O'Reilly courses\"\n",
        "\n",
        "- Thought: \"Live-trainings by instructor Lucas are awesome\"\n",
        "\n",
        "- Action: \"Schedule live-training about agents with instructor Lucas Soares\" (lol)\n",
        "\n",
        "In a way this is a simplified rendition of what brought you here, obviously not necessarily in this particular order nor these particular sets of thought and action pairs. This particular way of thinking about how to structure thoughts and actions is well represented in the paper: [ReACT](https://arxiv.org/pdf/2210.03629.pdf).\n",
        "\n",
        "With regards to LLMs, how can bring this idea to fruition thinking about the LLM model as the reasoning and thinking engine?\n",
        "\n",
        "We can start simple and just call the openai API to start:"
      ]
    },
    {
      "cell_type": "code",
      "execution_count": 3,
      "metadata": {
        "execution": {
          "iopub.execute_input": "2024-07-18T12:08:35.803091Z",
          "iopub.status.busy": "2024-07-18T12:08:35.802947Z",
          "iopub.status.idle": "2024-07-18T12:08:35.804996Z",
          "shell.execute_reply": "2024-07-18T12:08:35.804702Z"
        },
        "id": "GGOZfqMW81sW"
      },
      "outputs": [],
      "source": [
        "# uncomment this if running locally\n",
        "#!pip install python-dotenv\n",
        "# from dotenv import load_dotenv\n",
        "\n",
        "# load_dotenv()\n",
        "\n",
        "# Or if you are in Colab, uncoment below and add your api key\n",
        "import os\n",
        "os.environ[\"OPENAI_API_KEY\"] = \"your-api-key\""
      ]
    },
    {
      "cell_type": "code",
      "source": [
        "from google.colab import userdata\n",
        "# Retrieve the API key from Colab Secrets\n",
        "api_key = userdata.get('OPENAI_API_KEY')"
      ],
      "metadata": {
        "id": "oj-Fi1eb9tIe"
      },
      "execution_count": 4,
      "outputs": []
    },
    {
      "cell_type": "code",
      "execution_count": 5,
      "metadata": {
        "execution": {
          "iopub.execute_input": "2024-07-18T12:08:35.806946Z",
          "iopub.status.busy": "2024-07-18T12:08:35.806803Z",
          "iopub.status.idle": "2024-07-18T12:08:39.443941Z",
          "shell.execute_reply": "2024-07-18T12:08:39.443376Z"
        },
        "colab": {
          "base_uri": "https://localhost:8080/",
          "height": 69
        },
        "id": "4V6DGAmg81sW",
        "outputId": "4cf0e881-10cc-449c-f4bd-168ffa134641"
      },
      "outputs": [
        {
          "output_type": "execute_result",
          "data": {
            "text/plain": [
              "<IPython.core.display.Markdown object>"
            ],
            "text/markdown": "Why did the cat bring a calculator to the dog park?\n\nBecause he wanted to paw-sitively calculate how many tennis balls the dog would try to steal!"
          },
          "metadata": {},
          "execution_count": 5
        }
      ],
      "source": [
        "from openai import OpenAI\n",
        "from IPython.display import Markdown\n",
        "client = OpenAI(api_key=api_key)\n",
        "\n",
        "def get_response(prompt_question):\n",
        "    response = client.chat.completions.create(\n",
        "        model=\"gpt-3.5-turbo-16k\",\n",
        "        messages=[{\"role\": \"system\", \"content\": \"You are a helpful research and programming assistant\"},\n",
        "                  {\"role\": \"user\", \"content\": prompt_question}]\n",
        "    )\n",
        "\n",
        "    return response.choices[0].message.content\n",
        "\n",
        "output = get_response(\"Create a joke about a dog and a cat\")\n",
        "Markdown(output)"
      ]
    },
    {
      "cell_type": "markdown",
      "metadata": {
        "id": "v2Tf9nag81sX"
      },
      "source": [
        "Ok cool, so here we have three ideas of actions to perform:\n",
        "\n",
        "- Creating directories\n",
        "- Listing files\n",
        "- Removing files\n",
        "\n",
        "Let's transform them into functions that we could call just like in any type of Python-based application."
      ]
    },
    {
      "cell_type": "code",
      "execution_count": 6,
      "metadata": {
        "execution": {
          "iopub.execute_input": "2024-07-18T12:08:39.470329Z",
          "iopub.status.busy": "2024-07-18T12:08:39.470185Z",
          "iopub.status.idle": "2024-07-18T12:08:39.472679Z",
          "shell.execute_reply": "2024-07-18T12:08:39.472378Z"
        },
        "id": "rK_fqc9s81sX"
      },
      "outputs": [],
      "source": [
        "# NOTE: I changed the functions in these examples from the slides (which use subprocess), but they do the same thing\n",
        "# I am just using the os module here so people can test this on google colab\n",
        "\n",
        "import os\n",
        "\n",
        "def create_directory():\n",
        "    os.makedirs('test', exist_ok=True)\n",
        "\n",
        "def create_file():\n",
        "    with open('test.txt', 'w'):\n",
        "        pass\n",
        "\n",
        "def list_files():\n",
        "    files = os.listdir()\n",
        "    for file in files:\n",
        "        print(file)"
      ]
    },
    {
      "cell_type": "markdown",
      "metadata": {
        "id": "woTI-7Kh81sX"
      },
      "source": [
        "Notice that here we are not concerned with giving these functions arguments to avoid complicating things, the only thing we should focus on is to have the ability to perform the actions outside the narrow scope of the python script out there in the real-world.\n",
        "\n",
        "Let's test these functions"
      ]
    },
    {
      "cell_type": "code",
      "execution_count": 7,
      "metadata": {
        "execution": {
          "iopub.execute_input": "2024-07-18T12:08:39.474251Z",
          "iopub.status.busy": "2024-07-18T12:08:39.474159Z",
          "iopub.status.idle": "2024-07-18T12:08:39.593464Z",
          "shell.execute_reply": "2024-07-18T12:08:39.593138Z"
        },
        "colab": {
          "base_uri": "https://localhost:8080/"
        },
        "id": "3OpZMciH81sX",
        "outputId": "cc2857e0-f55a-47dc-d7ed-3c5be03a48d6"
      },
      "outputs": [
        {
          "output_type": "stream",
          "name": "stdout",
          "text": [
            "sample_data\n"
          ]
        }
      ],
      "source": [
        "!ls"
      ]
    },
    {
      "cell_type": "markdown",
      "metadata": {
        "id": "Oar_29VY81sX"
      },
      "source": [
        "Ok, we start with this folder containing a few notebooks, scripts and sub-directories.\n",
        "\n",
        "Let's test each function and inspect its output behavior:"
      ]
    },
    {
      "cell_type": "code",
      "execution_count": 8,
      "metadata": {
        "execution": {
          "iopub.execute_input": "2024-07-18T12:08:39.595243Z",
          "iopub.status.busy": "2024-07-18T12:08:39.595156Z",
          "iopub.status.idle": "2024-07-18T12:08:39.718593Z",
          "shell.execute_reply": "2024-07-18T12:08:39.714786Z"
        },
        "colab": {
          "base_uri": "https://localhost:8080/"
        },
        "id": "SjN1beRu81sY",
        "outputId": "17b65c54-6d74-4408-b583-95528db7dff8"
      },
      "outputs": [
        {
          "output_type": "stream",
          "name": "stdout",
          "text": [
            "sample_data  test\n"
          ]
        }
      ],
      "source": [
        "create_directory()\n",
        "\n",
        "!ls"
      ]
    },
    {
      "cell_type": "code",
      "execution_count": 9,
      "metadata": {
        "execution": {
          "iopub.execute_input": "2024-07-18T12:08:39.726418Z",
          "iopub.status.busy": "2024-07-18T12:08:39.725452Z",
          "iopub.status.idle": "2024-07-18T12:08:39.853912Z",
          "shell.execute_reply": "2024-07-18T12:08:39.852473Z"
        },
        "colab": {
          "base_uri": "https://localhost:8080/"
        },
        "id": "QWa3yW4L81sY",
        "outputId": "4493911e-769d-4c91-9047-690214ac8cbe"
      },
      "outputs": [
        {
          "output_type": "stream",
          "name": "stdout",
          "text": [
            "sample_data  test  test.txt\n"
          ]
        }
      ],
      "source": [
        "create_file()\n",
        "\n",
        "!ls"
      ]
    },
    {
      "cell_type": "code",
      "execution_count": 10,
      "metadata": {
        "execution": {
          "iopub.execute_input": "2024-07-18T12:08:39.861742Z",
          "iopub.status.busy": "2024-07-18T12:08:39.861440Z",
          "iopub.status.idle": "2024-07-18T12:08:39.865145Z",
          "shell.execute_reply": "2024-07-18T12:08:39.864760Z"
        },
        "colab": {
          "base_uri": "https://localhost:8080/"
        },
        "id": "6qbkKJe681sY",
        "outputId": "a6392c4a-a99f-4fb6-9e9f-26165f9e25fc"
      },
      "outputs": [
        {
          "output_type": "stream",
          "name": "stdout",
          "text": [
            ".config\n",
            "test.txt\n",
            "test\n",
            "sample_data\n"
          ]
        }
      ],
      "source": [
        "list_files()"
      ]
    },
    {
      "cell_type": "markdown",
      "metadata": {
        "id": "z9JGkl_u81sY"
      },
      "source": []
    },
    {
      "cell_type": "markdown",
      "metadata": {
        "id": "NK5yn_Ty81sY"
      },
      "source": [
        "Ok great all the functions are working!\n",
        "\n",
        "Now, let's imagine that we wanted to create an agent that would perform these actions for us based on some input that we give it, how can we connect models that we know and can use today like ChatGPT, with these tools that do stuff in the real world?"
      ]
    },
    {
      "cell_type": "markdown",
      "metadata": {
        "id": "elRx-h1S81sY"
      },
      "source": [
        "To answer this question, how about we give a task to the model, and for that task we ask it to list the steps that it needs to perform to complete the task, and then for each of those steps we would ask the model to decide whether or not a function should be called to execute that task?\n",
        "\n",
        "This is what the now famous paper ['Toolformer'](https://arxiv.org/pdf/2302.04761.pdf) demonstrated!\n",
        "\n",
        "They showed that today's advanced LLMs like the gpt-series could teacha themselves how to properly call and use external tools!\n",
        "\n",
        "Isn't that awesome???\n",
        "\n",
        "So, let's see if we can hack our way into connecting the llm response with the functions that we want that llm to use."
      ]
    },
    {
      "cell_type": "code",
      "execution_count": 10,
      "metadata": {
        "execution": {
          "iopub.execute_input": "2024-07-18T12:08:39.867318Z",
          "iopub.status.busy": "2024-07-18T12:08:39.867186Z",
          "iopub.status.idle": "2024-07-18T12:08:39.870755Z",
          "shell.execute_reply": "2024-07-18T12:08:39.870429Z"
        },
        "id": "66zrFjKV81sY"
      },
      "outputs": [],
      "source": [
        "def get_response(prompt_question):\n",
        "    response = client.chat.completions.create(\n",
        "        model=\"gpt-3.5-turbo-1106\",\n",
        "        messages=[{\"role\": \"system\", \"content\": \"You are a helpful research and programming assistant\"},\n",
        "                {\"role\": \"user\", \"content\": prompt_question}]\n",
        "    )\n",
        "\n",
        "    return response.choices[0].message.content\n",
        "\n",
        "\n",
        "def create_directory(dir_name):\n",
        "    os.makedirs(dir_name, exist_ok=True)\n",
        "\n",
        "def create_file(filename):\n",
        "    with open(filename, 'w'):\n",
        "        pass\n",
        "\n",
        "def list_files():\n",
        "    files = os.listdir()\n",
        "    for file in files:\n",
        "        print(file)"
      ]
    },
    {
      "cell_type": "markdown",
      "metadata": {
        "id": "kbVvHl8u81sY"
      },
      "source": [
        "OK, cool! now Notice that, here we added single parameters to the functions: `create_directory(), create_file()`, and we did this so\n",
        "that we can actually do real things instead of just always creating the same folders over and over.\n",
        "\n",
        "Now, how can we actually put it all together so that given a task, a model can:\n",
        "\n",
        "- Plan the task\n",
        "- Execute actions to complete the task\n",
        "- Know when to call a function\n",
        "\n",
        "????\n",
        "\n",
        "This is actually an interesting problem, let's understand why is that the case by trying to hack our way into putting all of these together:"
      ]
    },
    {
      "cell_type": "code",
      "execution_count": 11,
      "metadata": {
        "execution": {
          "iopub.execute_input": "2024-07-18T12:08:39.873018Z",
          "iopub.status.busy": "2024-07-18T12:08:39.872898Z",
          "iopub.status.idle": "2024-07-18T12:08:40.945824Z",
          "shell.execute_reply": "2024-07-18T12:08:40.944916Z"
        },
        "colab": {
          "base_uri": "https://localhost:8080/",
          "height": 46
        },
        "id": "DsUWrinv81sY",
        "outputId": "725a4778-2a98-4e0b-8a9a-f32b3fb11d46"
      },
      "outputs": [
        {
          "output_type": "execute_result",
          "data": {
            "text/plain": [
              "<IPython.core.display.Markdown object>"
            ],
            "text/markdown": "create_directory('angus-the-agent-master')"
          },
          "metadata": {},
          "execution_count": 11
        }
      ],
      "source": [
        "def get_response(prompt_question, model=\"gpt-3.5-turbo-16k\"):\n",
        "    response = client.chat.completions.create(\n",
        "        model=model,\n",
        "        messages=[{\"role\": \"system\", \"content\": \"You are a helpful research and programming assistant\"},\n",
        "                {\"role\": \"user\", \"content\": prompt_question}]\n",
        "    )\n",
        "\n",
        "    return response.choices[0].message.content\n",
        "\n",
        "def create_directory(dir_name):\n",
        "    os.makedirs(dir_name, exist_ok=True)\n",
        "\n",
        "def create_file(filename):\n",
        "    with open(filename, 'w'):\n",
        "        pass\n",
        "\n",
        "def list_files():\n",
        "    files = os.listdir()\n",
        "    for file in files:\n",
        "        print(file)\n",
        "\n",
        "\n",
        "\n",
        "task_description = \"Create a folder called 'angus-the-agent-master'. Inside that folder, create a file called 'the-10-master-rules.md\"\n",
        "output = get_response(f\"\"\"Given this task: {task_description}, \\n\n",
        "                            Consider you have access to the following functions:\n",
        "\n",
        "    def create_directory(dir_name):\n",
        "        os.makedirs(dir_name, exist_ok=True)\n",
        "\n",
        "    def create_file():\n",
        "        with open('test.txt', 'w'):\n",
        "            pass\n",
        "\n",
        "    def list_files():\n",
        "        files = os.listdir()\n",
        "        for file in files:\n",
        "            print(file)\n",
        "\n",
        "    Your output should be the first function to be executed to complete the task containing the necessary arguments.\n",
        "    The OUTPUT SHOULD ONLY BE THE PYTHON FUNCTION CALL and NOTHING ELSE.\n",
        "    \"\"\")\n",
        "\n",
        "Markdown(output)"
      ]
    },
    {
      "cell_type": "markdown",
      "metadata": {
        "id": "sPzlr7II81sZ"
      },
      "source": [
        "Hey! Look at that the output is that function! Now, all we need is find a way to execute this function. We can use Python's built in `exec` method for that:"
      ]
    },
    {
      "cell_type": "code",
      "execution_count": 8,
      "metadata": {
        "colab": {
          "base_uri": "https://localhost:8080/",
          "height": 35
        },
        "id": "YEp0gCzY81sZ",
        "outputId": "9175c760-30b1-4e6f-dd7f-f1f639307222"
      },
      "outputs": [
        {
          "output_type": "execute_result",
          "data": {
            "text/plain": [
              "'create_directory(\"angus-the-agent-master\")'"
            ],
            "application/vnd.google.colaboratory.intrinsic+json": {
              "type": "string"
            }
          },
          "metadata": {},
          "execution_count": 8
        }
      ],
      "source": [
        "output"
      ]
    },
    {
      "cell_type": "code",
      "execution_count": 9,
      "metadata": {
        "execution": {
          "iopub.execute_input": "2024-07-18T12:08:40.950229Z",
          "iopub.status.busy": "2024-07-18T12:08:40.950056Z",
          "iopub.status.idle": "2024-07-18T12:08:40.952787Z",
          "shell.execute_reply": "2024-07-18T12:08:40.952335Z"
        },
        "id": "I28aucst81sZ"
      },
      "outputs": [],
      "source": [
        "exec(output)"
      ]
    },
    {
      "cell_type": "code",
      "execution_count": null,
      "metadata": {
        "execution": {
          "iopub.execute_input": "2024-07-18T12:08:40.954864Z",
          "iopub.status.busy": "2024-07-18T12:08:40.954701Z",
          "iopub.status.idle": "2024-07-18T12:08:41.088247Z",
          "shell.execute_reply": "2024-07-18T12:08:41.083799Z"
        },
        "id": "G7VFDGKS81sZ",
        "outputId": "87835934-b9e1-43e9-c7e1-944b3f321e72"
      },
      "outputs": [
        {
          "name": "stdout",
          "output_type": "stream",
          "text": [
            "\u001b[1m\u001b[36mlucas-agent-007-the-return-of-pancake-man/\u001b[m\u001b[m\r\n",
            "\u001b[1m\u001b[36mlucas-agent-007/\u001b[m\u001b[m\r\n",
            "\u001b[1m\u001b[36mlucas-loves-pancakes/\u001b[m\u001b[m\r\n",
            "\u001b[1m\u001b[36mlucas-still-loves-pancakes/\u001b[m\u001b[m\r\n",
            "\u001b[1m\u001b[36mlucas-test/\u001b[m\u001b[m\r\n",
            "\u001b[1m\u001b[36mlucas-the-agent-master/\u001b[m\u001b[m\r\n"
          ]
        }
      ],
      "source": [
        "!ls -d */ | grep lucas"
      ]
    },
    {
      "cell_type": "markdown",
      "metadata": {
        "id": "yTGE4aHr81sZ"
      },
      "source": [
        "Yessss! We did it! All we had to do is to use the Python builtin method `exec` connected with the function call we got from the model's response!"
      ]
    },
    {
      "cell_type": "markdown",
      "metadata": {
        "id": "zKf6dhRH81sZ"
      },
      "source": [
        "This is great, but what if we wanted to perform multiple actions?\n",
        "\n",
        "How about changing our prompt so that our output is a python list of function calls which we can later programmatically call?\n",
        "\n",
        "Let's try that:"
      ]
    },
    {
      "cell_type": "code",
      "execution_count": null,
      "metadata": {
        "execution": {
          "iopub.execute_input": "2024-07-18T12:08:41.091992Z",
          "iopub.status.busy": "2024-07-18T12:08:41.091777Z",
          "iopub.status.idle": "2024-07-18T12:08:42.385588Z",
          "shell.execute_reply": "2024-07-18T12:08:42.384291Z"
        },
        "id": "xvjtMIn181sZ",
        "outputId": "093646dc-7ec2-445f-a83f-556c3d4ab927"
      },
      "outputs": [
        {
          "data": {
            "text/markdown": [
              "[create_directory('lucas-the-agent-master'), create_file('lucas-the-agent-master/the-10-master-rules.md')]"
            ],
            "text/plain": [
              "<IPython.core.display.Markdown object>"
            ]
          },
          "execution_count": 13,
          "metadata": {},
          "output_type": "execute_result"
        }
      ],
      "source": [
        "task_description = \"Create a folder called 'lucas-the-agent-master'. Inside that folder create a file called 'the-10-master-rules.md'.\"\n",
        "output = get_response(f\"\"\"Given a task that will be fed as input, and consider you have access to the following functions:\n",
        "\n",
        "    def create_directory(dir_name):\n",
        "        os.makedirs(dir_name, exist_ok=True)\n",
        "\n",
        "    def create_file(filename):\n",
        "        with open(filename, 'w'):\n",
        "            pass\n",
        "\n",
        "    def list_files():\n",
        "        files = os.listdir()\n",
        "        for file in files:\n",
        "            print(file)\n",
        "    .\n",
        "    Your output should be the a list of function calls to be executed to complete the task containing the necessary arguments.\n",
        "    For example:\n",
        "\n",
        "    task: 'create a folder named test-dir'\n",
        "    output_list: [create_directory('test-dir')]\n",
        "\n",
        "    task: 'create a file named file.txt'\n",
        "    output_list: [create_file('file.txt')]\n",
        "\n",
        "    task: 'Create a folder named lucas-dir and inside that folder create a file named lucas-file.txt'\n",
        "    output_list: [create_directory('lucas-dir'), create_file('lucas-dir/lucas-file.txt')]\n",
        "\n",
        "    The OUTPUT SHOULD ONLY BE A PYTHON LIST WITH THE FUNCTION CALLS INSIDE and NOTHING ELSE.\n",
        "    task: {task_description}\n",
        "    output_list:\\n\n",
        "    \"\"\")\n",
        "\n",
        "Markdown(output)"
      ]
    },
    {
      "cell_type": "code",
      "execution_count": null,
      "metadata": {
        "execution": {
          "iopub.execute_input": "2024-07-18T12:08:42.389999Z",
          "iopub.status.busy": "2024-07-18T12:08:42.389383Z",
          "iopub.status.idle": "2024-07-18T12:08:42.392802Z",
          "shell.execute_reply": "2024-07-18T12:08:42.392293Z"
        },
        "id": "oLy2hahE81sZ"
      },
      "outputs": [],
      "source": [
        "exec(output)"
      ]
    },
    {
      "cell_type": "code",
      "execution_count": null,
      "metadata": {
        "execution": {
          "iopub.execute_input": "2024-07-18T12:08:42.394963Z",
          "iopub.status.busy": "2024-07-18T12:08:42.394823Z",
          "iopub.status.idle": "2024-07-18T12:08:42.518684Z",
          "shell.execute_reply": "2024-07-18T12:08:42.517282Z"
        },
        "id": "iXOw1h4h81sZ",
        "outputId": "bed37a5f-11d9-40ee-875e-541221c8c841"
      },
      "outputs": [
        {
          "name": "stdout",
          "output_type": "stream",
          "text": [
            "the-10-master-rules 2.md the-10-master-rules.md\r\n"
          ]
        }
      ],
      "source": [
        "!ls lucas-the-agent-master/"
      ]
    },
    {
      "cell_type": "markdown",
      "metadata": {
        "id": "48QYrjkX81sZ"
      },
      "source": [
        "At this point we can start identifying a lot of issues with this approach despite our early sucess:\n",
        "\n",
        "- Uncertainty of model's outputs can affect our ability to reliably call the functions\n",
        "- We need more structured ways to prepare the inputs of the function calls\n",
        "- We need better ways to put everything together (just feeding the entire functions like this makes it a very clunky and non-scalable framework for more complex cases)\n",
        "\n",
        "There are many more issues but starting with these, we can now look at frameworks and see how they fix these issues and with that in mind understand what is behind their implementations!\n",
        "\n",
        "I personally think this is a much better way to understand what is going on behind agents in practice rather than just use the more higher level frameworks right of the bat!"
      ]
    },
    {
      "cell_type": "markdown",
      "metadata": {
        "id": "7du67QZ481sa"
      },
      "source": [
        "# References\n",
        "\n",
        "- [HuggingGPT](https://github.com/microsoft/JARVIS)\n",
        "- [Gen Agents](https://arxiv.org/pdf/2304.03442.pdf)\n",
        "- [WebGPT](https://www.semanticscholar.org/paper/WebGPT%3A-Browser-assisted-question-answering-with-Nakano-Hilton/2f3efe44083af91cef562c1a3451eee2f8601d22)\n",
        "- [LangChain](https://python.langchain.com/docs/get_started/introduction)\n",
        "- [OpenAI](https://openai.com/)\n",
        "- [OpenAI Function Calling](https://platform.openai.com/docs/guides/function-calling)\n",
        "- [AutoGPT](https://github.com/Significant-Gravitas/AutoGPT)\n",
        "- [GPT-Engineer](https://github.com/gpt-engineer-org/gpt-engineer)\n",
        "- [BabyAGI](https://github.com/yoheinakajima/babyagi)\n",
        "- [Karpathy on Agents](https://www.youtube.com/watch?v=fqVLjtvWgq8)\n",
        "- [ReACT Paper](https://arxiv.org/abs/2210.03629)"
      ]
    }
  ],
  "metadata": {
    "kernelspec": {
      "display_name": "oreilly-agents",
      "language": "python",
      "name": "oreilly-agents"
    },
    "language_info": {
      "codemirror_mode": {
        "name": "ipython",
        "version": 3
      },
      "file_extension": ".py",
      "mimetype": "text/x-python",
      "name": "python",
      "nbconvert_exporter": "python",
      "pygments_lexer": "ipython3",
      "version": "3.11.9"
    },
    "colab": {
      "provenance": [],
      "include_colab_link": true
    }
  },
  "nbformat": 4,
  "nbformat_minor": 0
}